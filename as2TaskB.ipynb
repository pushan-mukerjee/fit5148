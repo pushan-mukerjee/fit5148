{
 "cells": [
  {
   "cell_type": "markdown",
   "metadata": {},
   "source": [
    "# FIT5148 - Distributed Databases and Big Data\n",
    "\n",
    "# Assignment 2 - Task 2 Solution Workbook\n",
    "\n",
    "\n",
    "**Student Details**\n",
    "- Name: Pushan Mukerjee\n",
    "- Student ID: 29052971\n"
   ]
  },
  {
   "cell_type": "code",
   "execution_count": 73,
   "metadata": {},
   "outputs": [],
   "source": [
    "#Libraries \n",
    "\n",
    "import pymongo\n",
    "from pymongo import MongoClient\n",
    "from pprint import pprint\n",
    "import pandas as pd #for data load \n",
    "import json #for data load\n",
    "#from json import loads\n",
    "#from collections import OrderedDict\n",
    "\n",
    "#import csv #for data load\n",
    "#import datetime as dt #for datetime manipulation\n",
    "#import csv #for data load\n",
    "#import multiprocessing as mp # For parallel processing\n",
    "#import matplotlib.pyplot as plt #For profiling the Fire data. \n",
    "#import numpy as np #For profiling the Fire Data (getting the 25th and 75th percentile)\n",
    "#import os #for getting the process id in parallel processing\n",
    "#import time #to record the start time and end time of process execution\n",
    "#import sys #to use sys.maxsize in k-way merge\n"
   ]
  },
  {
   "cell_type": "markdown",
   "metadata": {},
   "source": [
    "## Q1) Data Model"
   ]
  },
  {
   "cell_type": "markdown",
   "metadata": {},
   "source": [
    "There is a 1:Many relationship between climate and fire. One climatic day contains 0 or many fires, whereas one fire belongs to only one climatic day, with Date being the join column. \n",
    "\n",
    "The model chosen was an **Embedding** model that embedded the one related climate object into each fire. Sample of the model is below.\n",
    "\n",
    "**Sample:**\n",
    "\n",
    "```\n",
    "{\n",
    "    \"_id\" : ObjectId(\"5baa31d4fa3c2e011bb72abe\"),\n",
    "\t\"Latitude\" : -37.651,\n",
    "\t\"Longitude\" : 149.345,\n",
    "\t\"Surface_Temperature_Kelvin\" : 337.8,\n",
    "\t\"Datetime\" : \"2017-12-16T00:20:53\",\n",
    "\t\"Power\" : 42.2,\n",
    "\t\"Confidence\" : 82,\n",
    "\t\"Date\" : \"2017-12-16\",\n",
    "\t\"Surface_Temperature_Celcius\" : 64,\n",
    "\t\"Climate\" : \n",
    "\t\t{   \"Station\" : 948702,\n",
    "\t\t\t\"Date\" : \"2017-12-16\",\n",
    "\t\t\t\"Air_Temperature_Celcius\" : 18,\n",
    "\t\t\t\"Relative_Humidity\" : 53.7,\n",
    "\t\t\t\"WindSpeed_knots\" : 9,\n",
    "\t\t\t\"Max_Wind_Speed\" : 13,\n",
    "\t\t\t\"Precipitation\" : \"0.00I\"\n",
    "\t\t}\n",
    "}\n",
    "```\n",
    "**Note:** The order of the JSON elements is unspecified and is put into alphabetical order by **loads** package.\n",
    "Hence in Mongodb, the above document may appear as per the below sample: \n",
    "\n",
    "```\n",
    "{'Climate': {'Air_Temperature_Celcius': 28,\n",
    "  'Date': '2017-12-27',\n",
    "  'Max_Wind_Speed': 15.9,\n",
    "  'Precipitation ': ' 0.00I',\n",
    "  'Relative_Humidity': 58.3,\n",
    "  'Station': 948702,\n",
    "  'WindSpeed_knots': 9.3},\n",
    " 'Confidence': 78,\n",
    " 'Date': '2017-12-27',\n",
    " 'Datetime': '2017-12-27T04:16:51',\n",
    " 'Latitude': -37.966,\n",
    " 'Longitude': 145.051,\n",
    " 'Power': 26.7,\n",
    " 'Surface_Temperature_Celcius': 68,\n",
    " 'Surface_Temperature_Kelvin': 341.8,\n",
    " '_id': ObjectId('5baf7d2893436908f141b36e')}\n",
    "```\n",
    "\n",
    "\n",
    "**Justification:**\n",
    "\n",
    "The model chosen was an Embedding model that embedded the climate information into each fire. Due to the 1:Many relationship between Climate and Fire, the model can be limited to only one embedded Climate object per fire, hence eliminating the chance of the 16MB document limit from breaching. As a result, this model enables all information about a single fire to be retrieved in a single seek, which is faster than referencing.   In addition, the model is most simple and fit for purpose given the queries in this task where some queries do not even need adjoined climate data. Yet all queries need fire data.    \n",
    "\n",
    "Another option would have been to use a Referencing Model and reference the fire information within the Climate collection. The issue in this case, is you cannot identify a single fire by the joining column Date. So this would require storing an array of fire datestamps within a climate object in order to reference each fire. Additional overhead for not much benefit since in this task, a lot of the queries don't need joins and hence faster to retrieve all information contained within a single document.\n",
    "\n",
    "An embedded option, where all fire instances are embedded within a single climate object is worse than the above two, as there are many fires on a particular climatic day, so the chances of breaching the 16MB limit for a single document would be high. "
   ]
  },
  {
   "cell_type": "markdown",
   "metadata": {},
   "source": [
    "## Q2) Loading Documents into the Data Model"
   ]
  },
  {
   "cell_type": "markdown",
   "metadata": {},
   "source": [
    "Create the Client Connection to MongoDb and the new collection as2TaskB. Then load the datasets into the collection using the new model."
   ]
  },
  {
   "cell_type": "code",
   "execution_count": 74,
   "metadata": {},
   "outputs": [],
   "source": [
    "client = MongoClient () #defining the Mongodb client.\n",
    "db = client.fit5148_db #defining the db \n",
    "collection = db.as2TaskB #define a new collection as2TaskB. This will store the new data model described above.\n",
    "\n",
    "climateData = [] #climate data array to store in memory\n",
    "fireData = [] #fire data array to store in memory\n",
    "\n",
    "result = collection.drop() #Ensure that the collection does not already exist in Mongo db\n",
    "\n",
    "fireDf = pd.read_csv(\"FireData-Part1.csv\") #Read the FireData-Part1.csv into a dataframe\n",
    "climateDf = pd.read_csv(\"ClimateData-Part1.csv\") #Read the ClimateData-Part1.csv into a dataframe\n",
    "\n",
    "mergedDf = pd.merge(fireDf, climateDf, on='Date', how='inner') #Join fire and climate dataframes by Date\n",
    "\n",
    "#Create a dataframe that stores the climate columns for each merged fire-climate record. \n",
    "#This dataframe will be used to create an embedded climate JSON Object\n",
    "embeddedDf = mergedDf[['Station', 'Date', 'Air_Temperature_Celcius', 'Relative_Humidity', 'WindSpeed_knots', 'Max_Wind_Speed', 'Precipitation ']]\n",
    "\n",
    "#For each row of fireData dataframe, create a new column called 'Climate'\n",
    "#Create an embedded Climate JSON objects from the Embedded Dataframe, \n",
    "#Store the embedded Climate JSON Objects in the Climate column of fireData dataframe\n",
    "fireDf[\"Climate\"] = json.loads(embeddedDf.to_json(orient='records'), object_pairs_hook=OrderedDict)\n",
    "\n",
    "#Convert the fireData dataframe into a set of JSON objects, with each object containing an embedded the climate JSON object.\n",
    "fireRecords = json.loads(fireDf.to_json(orient='records'), object_pairs_hook=OrderedDict)\n",
    "\n",
    "#Insert the fireData JSON objects (with the embedded Climate object) into the Collection as2TaskB\n",
    "result = collection.insert_many(fireRecords)\n"
   ]
  },
  {
   "cell_type": "markdown",
   "metadata": {},
   "source": [
    "Confirm the number of JSON documents inserted into the Collection (should be 2668 as per the number of fire records)"
   ]
  },
  {
   "cell_type": "code",
   "execution_count": 75,
   "metadata": {},
   "outputs": [
    {
     "data": {
      "text/plain": [
       "2668"
      ]
     },
     "execution_count": 75,
     "metadata": {},
     "output_type": "execute_result"
    }
   ],
   "source": [
    "numRecs = collection.count() #count the number of JSON documents inserted into the Collection\n",
    "numRecs #print the count. Should be 2668.\n"
   ]
  },
  {
   "cell_type": "markdown",
   "metadata": {},
   "source": [
    "Printing out a sample JSON document in the collection (first document) "
   ]
  },
  {
   "cell_type": "code",
   "execution_count": 77,
   "metadata": {},
   "outputs": [
    {
     "data": {
      "text/plain": [
       "{'Climate': {'Air_Temperature_Celcius': 28,\n",
       "  'Date': '2017-12-27',\n",
       "  'Max_Wind_Speed': 15.9,\n",
       "  'Precipitation ': ' 0.00I',\n",
       "  'Relative_Humidity': 58.3,\n",
       "  'Station': 948702,\n",
       "  'WindSpeed_knots': 9.3},\n",
       " 'Confidence': 78,\n",
       " 'Date': '2017-12-27',\n",
       " 'Datetime': '2017-12-27T04:16:51',\n",
       " 'Latitude': -37.966,\n",
       " 'Longitude': 145.051,\n",
       " 'Power': 26.7,\n",
       " 'Surface_Temperature_Celcius': 68,\n",
       " 'Surface_Temperature_Kelvin': 341.8,\n",
       " '_id': ObjectId('5baf885893436908f141d2b7')}"
      ]
     },
     "execution_count": 77,
     "metadata": {},
     "output_type": "execute_result"
    }
   ],
   "source": [
    "collection.find()[0]"
   ]
  },
  {
   "cell_type": "code",
   "execution_count": 69,
   "metadata": {},
   "outputs": [],
   "source": [
    "#climateRecords = json.loads(embeddedDf.to_json(orient='records'))\n",
    "#records_climate[0]\n",
    "\n",
    "#for i in range(numFires):\n",
    "#        fireObj = fireRecords[i]\n",
    "#        climateObj = climateRecords[i]\n",
    "#        doc = dict(fireObj + {'climate:' + climateObj})\n",
    "#        pprint(doc)\n",
    "\n",
    "        \n",
    "        \n",
    "        #       fireObj = db.fire.find({})\n",
    "#       fireObj.climate = []\n",
    "        #date = fireObj[\"Date\"]\n",
    "#        climateObj = db.climate.find({\"Date\":date})[0]    \n",
    "#        pprint(type(fireObj))\n",
    "        #fireObj[i].climate = climateDoc\n",
    "        #climateCursor.forEach(function(climate){ #for each climate rec in the climateCursor\n",
    "        #    fireObj.climate.push(climate) #push that climate record into the fireObj.climate array\n",
    "        #})\n",
    "    #pprint()\n",
    "\n",
    "#pprint(fireObj[1])    \n",
    "\n",
    "\n",
    "\n",
    "\n",
    "#pattern = r\"({|,)(?:\\s*)(?:')?([A-Za-z_$\\.][A-Za-z0-9_ \\-\\.$]*)(?:')?(?:\\s*):\"\n",
    "\n",
    "#records = map(lambda x, y: dict(x.items() + {'climate:': json.loads(y.to_json(orient='records'))}.items(), [fireRecords, climateRecords]))              \n",
    "#records\n",
    "\n",
    "#records = map(lambda x:\n",
    "#  dict(x.items() +\n",
    "#    {\n",
    "#      'criteria': json.loads(\n",
    "#        re.sub(pattern, \"\\\\1\\\"\\\\2\\\":\", x['criteria'])\n",
    "#      )\n",
    "#    }.items()\n",
    "#  ),\n",
    "#  records\n",
    "#)\n",
    "\n",
    "#records\n",
    "\n",
    "\n",
    "\n",
    "\n",
    "#with open('ClimateData.csv') as climate_file:\n",
    "#    climate_reader = csv.reader(climate_file, delimiter=',') #read in the ClimateData.csv\n",
    "#    line_count = 0\n",
    "#    for row in climate_reader:\n",
    "#        if line_count == 0: #Header row\n",
    "#            climateHeaders = row #create header row\n",
    "#            line_count += 1 #go to next row in file\n",
    "#        else: #data row\n",
    "#            climateData.append(row) #insert row into array (memory) \n",
    "#            line_count += 1 #go to next row in file\n",
    "\n",
    "\n",
    "\n",
    "\n",
    "#fireObj = db.fire.find({}) #find the fires\n",
    "#fireObj.climate = [] #create an empty array to store associated climate data\n",
    "\n",
    "\n",
    "\n",
    "#df = pd.read_csv(\"file.csv\")\n",
    "#records = json.loads(df.to_json(orient='records'))\n",
    "\n",
    "#pattern = r\"({|,)(?:\\s*)(?:')?([A-Za-z_$\\.][A-Za-z0-9_ \\-\\.$]*)(?:')?(?:\\s*):\"\n",
    "\n",
    "#records = map(lambda x:\n",
    "#  dict(x.items() +\n",
    "#    {\n",
    "#      'criteria': json.loads(\n",
    "#        re.sub(pattern, \"\\\\1\\\"\\\\2\\\":\", x['criteria'])\n",
    "#      )\n",
    "#    }.items()\n",
    "#  ),\n",
    "#  records\n",
    "#)\n",
    "\n",
    "\n",
    "\n",
    "\n",
    "\n",
    "#for doc in fireObj:\n",
    "#    date = fireObj[1]\n",
    "    #print(date) \n",
    "#    pprint(date)\n",
    "\n",
    "#var studentList = db.users.find({\"completed_units\":unitCode})    \n",
    "#date = \"2017-12-15\"\n",
    "#cursor = db.climate.find({\"Date\":date})\n",
    "\n",
    "#db.test.find()[50]\n",
    "\n",
    "#for doc in cursor:\n",
    "#    pprint(doc)\n",
    "\n",
    "#climate = doc.find.({\"Date\":unitCode})\n",
    "#var climate = db.climate.find({\"Date\":unitCode}) // find students having the unitCode\n",
    "    \n",
    "#collection = db.fit5148_collection\n",
    "#result = collection.insert_many(newTours)\n",
    "\n",
    "#cursor = montours.find({})\n",
    "\n",
    "#cursor = fireObj\n",
    "#for document in cursor: \n",
    "#    pprint(document)\n",
    "#    collection.insert_many(newTours)"
   ]
  },
  {
   "cell_type": "code",
   "execution_count": null,
   "metadata": {},
   "outputs": [],
   "source": []
  }
 ],
 "metadata": {
  "kernelspec": {
   "display_name": "Python 3",
   "language": "python",
   "name": "python3"
  },
  "language_info": {
   "codemirror_mode": {
    "name": "ipython",
    "version": 3
   },
   "file_extension": ".py",
   "mimetype": "text/x-python",
   "name": "python",
   "nbconvert_exporter": "python",
   "pygments_lexer": "ipython3",
   "version": "3.5.2"
  }
 },
 "nbformat": 4,
 "nbformat_minor": 2
}

{
 "cells": [
  {
   "cell_type": "code",
   "execution_count": 1,
   "metadata": {},
   "outputs": [
    {
     "name": "stdout",
     "output_type": "stream",
     "text": [
      "Collecting numpy\n",
      "  Downloading https://files.pythonhosted.org/packages/7b/61/11b05cc37ccdaabad89f04dbdc2a02905cf6de6f9b05816dba843beed328/numpy-1.14.3-cp35-cp35m-manylinux1_x86_64.whl (12.1MB)\n",
      "\u001b[K    100% |████████████████████████████████| 12.1MB 87kB/s  eta 0:00:01   44% |██████████████▍                 | 5.4MB 9.7MB/s eta 0:00:01    78% |█████████████████████████       | 9.5MB 13.9MB/s eta 0:00:01███████████▉| 12.1MB 21.0MB/s eta 0:00:01\n",
      "\u001b[?25hInstalling collected packages: numpy\n",
      "Successfully installed numpy-1.14.3\n",
      "\u001b[33mYou are using pip version 8.1.1, however version 10.0.1 is available.\n",
      "You should consider upgrading via the 'pip install --upgrade pip' command.\u001b[0m\n"
     ]
    }
   ],
   "source": [
    "!pip3 install numpy"
   ]
  },
  {
   "cell_type": "code",
   "execution_count": 2,
   "metadata": {},
   "outputs": [
    {
     "name": "stdout",
     "output_type": "stream",
     "text": [
      "Collecting pymongo\n",
      "  Downloading https://files.pythonhosted.org/packages/5d/ed/569dc31fa8b3defcca05654e6c23b97a152be6b7a5bd427bc7c9be7b139d/pymongo-3.6.1-cp35-cp35m-manylinux1_x86_64.whl (378kB)\n",
      "\u001b[K    100% |████████████████████████████████| 378kB 2.2MB/s eta 0:00:01\n",
      "\u001b[?25hInstalling collected packages: pymongo\n",
      "Successfully installed pymongo-3.6.1\n",
      "\u001b[33mYou are using pip version 8.1.1, however version 10.0.1 is available.\n",
      "You should consider upgrading via the 'pip install --upgrade pip' command.\u001b[0m\n"
     ]
    }
   ],
   "source": [
    "!pip3 install pymongo"
   ]
  },
  {
   "cell_type": "code",
   "execution_count": 3,
   "metadata": {
    "scrolled": true
   },
   "outputs": [
    {
     "name": "stdout",
     "output_type": "stream",
     "text": [
      "Collecting pyspark\n",
      "  Downloading https://files.pythonhosted.org/packages/58/49/45370cc153a6adcf2c304a3c06e801ed3c9650d0f852e7fde04bd8ffb534/pyspark-2.3.0.tar.gz (211.9MB)\n",
      "\u001b[K    100% |████████████████████████████████| 211.9MB 4.8kB/s eta 0:00:01 2% |▋                               | 4.4MB 13.4MB/s eta 0:00:16    4% |█▌                              | 9.9MB 8.9MB/s eta 0:00:23    5% |█▊                              | 11.6MB 11.0MB/s eta 0:00:19    6% |██                              | 13.7MB 16.3MB/s eta 0:00:13    7% |██▌                             | 16.5MB 12.1MB/s eta 0:00:17    8% |██▋                             | 17.3MB 14.6MB/s eta 0:00:14    8% |██▊                             | 18.3MB 15.5MB/s eta 0:00:13    8% |██▉                             | 18.9MB 13.1MB/s eta 0:00:15    11% |███▋                            | 24.2MB 9.1MB/s eta 0:00:21    12% |████                            | 26.6MB 12.8MB/s eta 0:00:15    14% |████▌                           | 30.1MB 11.3MB/s eta 0:00:17    14% |████▋                           | 30.9MB 18.0MB/s eta 0:00:11    17% |█████▌                          | 36.3MB 11.8MB/s eta 0:00:15    17% |█████▊                          | 37.9MB 7.7MB/s eta 0:00:23    18% |██████                          | 40.1MB 18.0MB/s eta 0:00:10    19% |██████▏                         | 41.1MB 22.3MB/s eta 0:00:08    19% |██████▎                         | 41.7MB 8.5MB/s eta 0:00:21    20% |██████▋                         | 43.6MB 17.2MB/s eta 0:00:10    22% |███████▎                        | 48.2MB 12.7MB/s eta 0:00:13    25% |████████▎                       | 54.8MB 11.9MB/s eta 0:00:14    26% |████████▍                       | 55.5MB 22.5MB/s eta 0:00:07    26% |████████▌                       | 56.4MB 19.8MB/s eta 0:00:08    28% |█████████▏                      | 60.6MB 13.3MB/s eta 0:00:12    28% |█████████▎                      | 61.1MB 7.5MB/s eta 0:00:21    31% |██████████▏                     | 67.2MB 13.3MB/s eta 0:00:11    32% |██████████▌                     | 69.6MB 22.0MB/s eta 0:00:07    35% |███████████▌                    | 75.8MB 21.5MB/s eta 0:00:07    38% |████████████▏                   | 80.7MB 19.6MB/s eta 0:00:07    38% |████████████▍                   | 82.2MB 18.9MB/s eta 0:00:07    40% |█████████████                   | 86.4MB 18.3MB/s eta 0:00:07    41% |█████████████▎                  | 87.9MB 18.5MB/s eta 0:00:07    42% |█████████████▌                  | 89.5MB 15.8MB/s eta 0:00:08    43% |██████████████                  | 92.3MB 16.4MB/s eta 0:00:08    48% |███████████████▍                | 101.9MB 16.6MB/s eta 0:00:07    49% |████████████████                | 105.3MB 15.0MB/s eta 0:00:08    52% |████████████████▊               | 110.9MB 9.4MB/s eta 0:00:11    53% |█████████████████               | 113.0MB 21.0MB/s eta 0:00:05    61% |███████████████████▊            | 130.9MB 25.0MB/s eta 0:00:04    63% |████████████████████▍           | 134.7MB 26.7MB/s eta 0:00:03    66% |█████████████████████▍          | 141.4MB 9.5MB/s eta 0:00:08    69% |██████████████████████▎         | 147.5MB 13.7MB/s eta 0:00:05    70% |██████████████████████▊         | 150.2MB 20.2MB/s eta 0:00:04    71% |██████████████████████▉         | 150.9MB 16.5MB/s eta 0:00:04    71% |███████████████████████         | 151.8MB 16.9MB/s eta 0:00:04    73% |███████████████████████▍        | 155.0MB 19.9MB/s eta 0:00:03    75% |████████████████████████▏       | 160.0MB 8.5MB/s eta 0:00:07    81% |██████████████████████████▏     | 172.9MB 15.2MB/s eta 0:00:03    84% |███████████████████████████▏    | 179.8MB 13.0MB/s eta 0:00:03    86% |███████████████████████████▋    | 182.7MB 13.1MB/s eta 0:00:03    86% |███████████████████████████▉    | 184.1MB 17.0MB/s eta 0:00:02    87% |████████████████████████████    | 184.8MB 10.7MB/s eta 0:00:03    87% |████████████████████████████▏   | 186.2MB 15.9MB/s eta 0:00:02    88% |████████████████████████████▎   | 186.9MB 13.2MB/s eta 0:00:02    88% |████████████████████████████▎   | 187.5MB 9.9MB/s eta 0:00:03    89% |████████████████████████████▌   | 188.9MB 12.1MB/s eta 0:00:02    89% |████████████████████████████▊   | 190.2MB 16.7MB/s eta 0:00:02    90% |████████████████████████████▉   | 190.9MB 14.4MB/s eta 0:00:02    90% |█████████████████████████████   | 191.5MB 9.5MB/s eta 0:00:03    90% |█████████████████████████████   | 192.2MB 13.1MB/s eta 0:00:02�████████████████████████████   | 192.4MB 30.9MB/s eta 0:00:01    92% |█████████████████████████████▌  | 195.0MB 11.7MB/s eta 0:00:02    92% |█████████████████████████████▊  | 196.6MB 12.0MB/s eta 0:00:02    96% |██████████████████████████████▊ | 203.4MB 17.3MB/s eta 0:00:01    96% |███████████████████████████████ | 204.6MB 11.1MB/s eta 0:00:01    97% |███████████████████████████████ | 205.5MB 14.7MB/s eta 0:00:01    98% |███████████████████████████████▌| 208.4MB 17.2MB/s eta 0:00:01    98% |███████████████████████████████▋| 209.1MB 12.4MB/s eta 0:00:01    99% |███████████████████████████████▊| 209.9MB 16.9MB/s eta 0:00:01\n",
      "\u001b[?25hCollecting py4j==0.10.6 (from pyspark)\n",
      "  Downloading https://files.pythonhosted.org/packages/4a/08/162710786239aa72bd72bb46c64f2b02f54250412ba928cb373b30699139/py4j-0.10.6-py2.py3-none-any.whl (189kB)\n",
      "\u001b[K    100% |████████████████████████████████| 194kB 4.2MB/s eta 0:00:01\n",
      "\u001b[?25hBuilding wheels for collected packages: pyspark\n",
      "  Running setup.py bdist_wheel for pyspark ... \u001b[?25ldone\n",
      "\u001b[?25h  Stored in directory: /home/student/.cache/pip/wheels/d9/db/ff/e6f3a8a564163ea64bc2072357e77b3404d10f91be48352796\n",
      "Successfully built pyspark\n",
      "Installing collected packages: py4j, pyspark\n",
      "Successfully installed py4j-0.10.6 pyspark-2.3.0\n",
      "\u001b[33mYou are using pip version 8.1.1, however version 10.0.1 is available.\n",
      "You should consider upgrading via the 'pip install --upgrade pip' command.\u001b[0m\n"
     ]
    }
   ],
   "source": [
    "!pip3 install pyspark"
   ]
  },
  {
   "cell_type": "code",
   "execution_count": 1,
   "metadata": {},
   "outputs": [
    {
     "name": "stdout",
     "output_type": "stream",
     "text": [
      "Collecting pandas\n",
      "  Downloading https://files.pythonhosted.org/packages/5d/d4/6e9c56a561f1d27407bf29318ca43f36ccaa289271b805a30034eb3a8ec4/pandas-0.23.4-cp35-cp35m-manylinux1_x86_64.whl (8.7MB)\n",
      "\u001b[K    100% |████████████████████████████████| 8.7MB 193kB/s ta 0:00:011    54% |█████████████████▍              | 4.7MB 2.8MB/s eta 0:00:02\n",
      "\u001b[?25hCollecting pytz>=2011k (from pandas)\n",
      "  Downloading https://files.pythonhosted.org/packages/30/4e/27c34b62430286c6d59177a0842ed90dc789ce5d1ed740887653b898779a/pytz-2018.5-py2.py3-none-any.whl (510kB)\n",
      "\u001b[K    100% |████████████████████████████████| 512kB 1.6MB/s ta 0:00:01\n",
      "\u001b[?25hCollecting numpy>=1.9.0 (from pandas)\n",
      "  Downloading https://files.pythonhosted.org/packages/0a/fa/afc1dc818589c9fd36a53f78999f2b5bd88bd5b167eb7d87fb56b565c185/numpy-1.15.1-cp35-cp35m-manylinux1_x86_64.whl (13.8MB)\n",
      "\u001b[K    100% |████████████████████████████████| 13.8MB 132kB/s ta 0:00:01   47% |███████████████▏                | 6.5MB 3.0MB/s eta 0:00:03    56% |██████████████████              | 7.8MB 2.7MB/s eta 0:00:03    91% |█████████████████████████████▎  | 12.7MB 2.9MB/s eta 0:00:01\n",
      "\u001b[?25hCollecting python-dateutil>=2.5.0 (from pandas)\n",
      "  Downloading https://files.pythonhosted.org/packages/cf/f5/af2b09c957ace60dcfac112b669c45c8c97e32f94aa8b56da4c6d1682825/python_dateutil-2.7.3-py2.py3-none-any.whl (211kB)\n",
      "\u001b[K    100% |████████████████████████████████| 215kB 1.6MB/s ta 0:00:01\n",
      "\u001b[?25hCollecting six>=1.5 (from python-dateutil>=2.5.0->pandas)\n",
      "  Using cached https://files.pythonhosted.org/packages/67/4b/141a581104b1f6397bfa78ac9d43d8ad29a7ca43ea90a2d863fe3056e86a/six-1.11.0-py2.py3-none-any.whl\n",
      "Installing collected packages: pytz, numpy, six, python-dateutil, pandas\n",
      "Successfully installed numpy-1.15.1 pandas-0.23.4 python-dateutil-2.7.3 pytz-2018.5 six-1.11.0\n",
      "\u001b[33mYou are using pip version 8.1.1, however version 18.0 is available.\n",
      "You should consider upgrading via the 'pip install --upgrade pip' command.\u001b[0m\n"
     ]
    }
   ],
   "source": [
    "!pip3 install pandas"
   ]
  },
  {
   "cell_type": "code",
   "execution_count": 1,
   "metadata": {},
   "outputs": [
    {
     "name": "stdout",
     "output_type": "stream",
     "text": [
      "Collecting matplotlib\n",
      "  Downloading https://files.pythonhosted.org/packages/de/af/6258db9b26313dd7ad70dba30a60bec62bf030a44208d4cb62966206666f/matplotlib-2.2.3-cp35-cp35m-manylinux1_x86_64.whl (12.6MB)\n",
      "\u001b[K    100% |████████████████████████████████| 12.6MB 117kB/s ta 0:00:01    98% |███████████████████████████████▌| 12.4MB 2.8MB/s eta 0:00:01\n",
      "\u001b[?25hCollecting cycler>=0.10 (from matplotlib)\n",
      "  Downloading https://files.pythonhosted.org/packages/f7/d2/e07d3ebb2bd7af696440ce7e754c59dd546ffe1bbe732c8ab68b9c834e61/cycler-0.10.0-py2.py3-none-any.whl\n",
      "Collecting six>=1.10 (from matplotlib)\n",
      "  Using cached https://files.pythonhosted.org/packages/67/4b/141a581104b1f6397bfa78ac9d43d8ad29a7ca43ea90a2d863fe3056e86a/six-1.11.0-py2.py3-none-any.whl\n",
      "Collecting kiwisolver>=1.0.1 (from matplotlib)\n",
      "  Downloading https://files.pythonhosted.org/packages/7e/31/d6fedd4fb2c94755cd101191e581af30e1650ccce7a35bddb7930fed6574/kiwisolver-1.0.1-cp35-cp35m-manylinux1_x86_64.whl (949kB)\n",
      "\u001b[K    100% |████████████████████████████████| 952kB 1.0MB/s ta 0:00:01\n",
      "\u001b[?25hCollecting numpy>=1.7.1 (from matplotlib)\n",
      "  Using cached https://files.pythonhosted.org/packages/0a/fa/afc1dc818589c9fd36a53f78999f2b5bd88bd5b167eb7d87fb56b565c185/numpy-1.15.1-cp35-cp35m-manylinux1_x86_64.whl\n",
      "Collecting python-dateutil>=2.1 (from matplotlib)\n",
      "  Using cached https://files.pythonhosted.org/packages/cf/f5/af2b09c957ace60dcfac112b669c45c8c97e32f94aa8b56da4c6d1682825/python_dateutil-2.7.3-py2.py3-none-any.whl\n",
      "Collecting pyparsing!=2.0.4,!=2.1.2,!=2.1.6,>=2.0.1 (from matplotlib)\n",
      "  Downloading https://files.pythonhosted.org/packages/6a/8a/718fd7d3458f9fab8e67186b00abdd345b639976bc7fb3ae722e1b026a50/pyparsing-2.2.0-py2.py3-none-any.whl (56kB)\n",
      "\u001b[K    100% |████████████████████████████████| 61kB 3.1MB/s ta 0:00:01\n",
      "\u001b[?25hCollecting pytz (from matplotlib)\n",
      "  Using cached https://files.pythonhosted.org/packages/30/4e/27c34b62430286c6d59177a0842ed90dc789ce5d1ed740887653b898779a/pytz-2018.5-py2.py3-none-any.whl\n",
      "Collecting setuptools (from kiwisolver>=1.0.1->matplotlib)\n",
      "  Downloading https://files.pythonhosted.org/packages/66/e8/570bb5ca88a8bcd2a1db9c6246bb66615750663ffaaeada95b04ffe74e12/setuptools-40.2.0-py2.py3-none-any.whl (568kB)\n",
      "\u001b[K    100% |████████████████████████████████| 573kB 1.6MB/s ta 0:00:01\n",
      "\u001b[?25hInstalling collected packages: six, cycler, setuptools, kiwisolver, numpy, python-dateutil, pyparsing, pytz, matplotlib\n",
      "Successfully installed cycler-0.10.0 kiwisolver-1.0.1 matplotlib-2.2.3 numpy-1.15.1 pyparsing-2.2.0 python-dateutil-2.7.3 pytz-2018.5 setuptools-40.2.0 six-1.11.0\n",
      "\u001b[33mYou are using pip version 8.1.1, however version 18.0 is available.\n",
      "You should consider upgrading via the 'pip install --upgrade pip' command.\u001b[0m\n"
     ]
    }
   ],
   "source": [
    "!pip3 install matplotlib"
   ]
  },
  {
   "cell_type": "code",
   "execution_count": null,
   "metadata": {},
   "outputs": [],
   "source": []
  }
 ],
 "metadata": {
  "kernelspec": {
   "display_name": "Python 3",
   "language": "python",
   "name": "python3"
  },
  "language_info": {
   "codemirror_mode": {
    "name": "ipython",
    "version": 3
   },
   "file_extension": ".py",
   "mimetype": "text/x-python",
   "name": "python",
   "nbconvert_exporter": "python",
   "pygments_lexer": "ipython3",
   "version": "3.5.2"
  }
 },
 "nbformat": 4,
 "nbformat_minor": 2
}

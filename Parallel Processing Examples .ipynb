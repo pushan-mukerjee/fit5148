{
 "cells": [
  {
   "cell_type": "code",
   "execution_count": 5,
   "metadata": {
    "colab": {
     "autoexec": {
      "startup": false,
      "wait_interval": 0
     },
     "base_uri": "https://localhost:8080/",
     "height": 68
    },
    "colab_type": "code",
    "executionInfo": {
     "elapsed": 3752,
     "status": "ok",
     "timestamp": 1521704896000,
     "user": {
      "displayName": "Huashun Li",
      "photoUrl": "https://lh3.googleusercontent.com/a/default-user=s128",
      "userId": "113029468360441592296"
     },
     "user_tz": -660
    },
    "id": "VQiHdGmlqfvm",
    "outputId": "87c14481-70db-48b8-cb4a-4b626e643ea5"
   },
   "outputs": [
    {
     "name": "stdout",
     "output_type": "stream",
     "text": [
      "**main program process ID:  174 \n",
      "\n",
      "Process ID: 213, Total :27\n",
      "Process ID: 212, Total :18\n",
      "Process ID: 211, Total :8\n",
      "Time taken:  0.00029850006103515625\n"
     ]
    }
   ],
   "source": [
    "#  Implementation using pool.apply_async \n",
    "import os\n",
    "import multiprocessing as mp\n",
    "import time\n",
    "\n",
    "\n",
    "def addAll(data):\n",
    "    time.sleep(1) # sleep 1 second\n",
    "    sum = 0\n",
    "    for d in data:\n",
    "        sum = sum + d\n",
    "    return \"Process ID: %d\" %(os.getpid()) +\", Total :\"+ str(sum)\n",
    "\n",
    "# Callback function\n",
    "def collectResults(result):\n",
    "    print(result)\n",
    "    \n",
    "p = mp.Pool(processes = 3)\n",
    "data = [[1,1,1,1,1,1,1,1],[2,2,2,2,2,2,2,2,2],[3,3,3,3,3,3,3,3,3]]\n",
    "\n",
    "start = time.time()\n",
    "print(\"**main program process ID: \",os.getpid(), '\\n')\n",
    "for d in data:\n",
    "    p.apply_async(addAll, args=(d, ), callback=collectResults) # main thread is not blocked \n",
    "end = time.time()\n",
    "p.close()\n",
    "p.join()\n",
    "\n",
    "print('Time taken: ', end - start)\n",
    "\n"
   ]
  },
  {
   "cell_type": "code",
   "execution_count": 3,
   "metadata": {},
   "outputs": [
    {
     "name": "stdout",
     "output_type": "stream",
     "text": [
      "**main program process ID:  174 \n",
      "\n",
      "Process ID: 199, Total :8\n",
      "Process ID: 200, Total :18\n",
      "Process ID: 201, Total :27\n",
      "Time taken:  0.0008862018585205078\n"
     ]
    }
   ],
   "source": [
    "#  Implementation using pool.apply_async \n",
    "import os\n",
    "import multiprocessing as mp\n",
    "import time\n",
    "\n",
    "\n",
    "def addAll(data):\n",
    "    time.sleep(1) # sleep 1 second\n",
    "    sum = 0\n",
    "    for d in data:\n",
    "        sum = sum + d\n",
    "    return \"Process ID: %d\" %(os.getpid()) +\", Total :\"+ str(sum)\n",
    "\n",
    "    \n",
    "p = mp.Pool(processes = 3)\n",
    "data = [[1,1,1,1,1,1,1,1],[2,2,2,2,2,2,2,2,2],[3,3,3,3,3,3,3,3,3]]\n",
    "results=[]\n",
    "start = time.time()\n",
    "print(\"**main program process ID: \",os.getpid(), '\\n')\n",
    "for d in data:\n",
    "    result = p.apply_async(addAll, [d]) # main thread is not blocked. \n",
    "    # We input the results into a list and get the result to print later.\n",
    "    results.append(result)\n",
    "end = time.time()\n",
    "\n",
    "for result in results:\n",
    "    print(result.get())\n",
    "\n",
    "print('Time taken: ', end - start)\n"
   ]
  },
  {
   "cell_type": "code",
   "execution_count": 4,
   "metadata": {
    "colab": {
     "autoexec": {
      "startup": false,
      "wait_interval": 0
     },
     "base_uri": "https://localhost:8080/",
     "height": 102
    },
    "colab_type": "code",
    "executionInfo": {
     "elapsed": 703,
     "status": "ok",
     "timestamp": 1523579579477,
     "user": {
      "displayName": "Huashun Li",
      "photoUrl": "https://lh3.googleusercontent.com/a/default-user=s128",
      "userId": "113029468360441592296"
     },
     "user_tz": -600
    },
    "id": "Cbk0cRE1qfvr",
    "outputId": "e9f1742b-18e6-423b-c9f8-571be9010c62"
   },
   "outputs": [
    {
     "name": "stdout",
     "output_type": "stream",
     "text": [
      "**main program process ID:  174 \n",
      "\n",
      "Process ID: 205, Total :8\n",
      "Process ID: 206, Total :18\n",
      "Process ID: 207, Total :27\n",
      "Time taken:  3.01204252243042\n"
     ]
    }
   ],
   "source": [
    "#  Implementation using pool.apply \n",
    "import os\n",
    "import multiprocessing as mp\n",
    "import time\n",
    "\n",
    "def addAll(data):\n",
    "    time.sleep(1) # sleep 1 second\n",
    "    sum = 0\n",
    "    for d in data:\n",
    "        sum = sum + d\n",
    "    return \"Process ID: %d\" %(os.getpid()) +\", Total :\"+ str(sum)\n",
    "\n",
    "def collectResults(result):\n",
    "    print(result)\n",
    "    \n",
    "p = mp.Pool(processes = 3)\n",
    "data = [[1,1,1,1,1,1,1,1],[2,2,2,2,2,2,2,2,2],[3,3,3,3,3,3,3,3,3]]\n",
    "print(\"**main program process ID: \",os.getpid(), '\\n')\n",
    "start = time.time()\n",
    "for d in data:\n",
    "    result = p.apply(addAll,[d]) # this blocks the main thread. Look at how each print is displayed.\n",
    "    print(result)\n",
    "end = time.time()\n",
    "\n",
    "print('Time taken: ', end - start)"
   ]
  },
  {
   "cell_type": "code",
   "execution_count": null,
   "metadata": {},
   "outputs": [],
   "source": []
  }
 ],
 "metadata": {
  "colab": {
   "default_view": {},
   "name": "Parallel+Processing.ipynb",
   "provenance": [],
   "version": "0.3.2",
   "views": {}
  },
  "kernelspec": {
   "display_name": "Python 3",
   "language": "python",
   "name": "python3"
  },
  "language_info": {
   "codemirror_mode": {
    "name": "ipython",
    "version": 3
   },
   "file_extension": ".py",
   "mimetype": "text/x-python",
   "name": "python",
   "nbconvert_exporter": "python",
   "pygments_lexer": "ipython3",
   "version": "3.5.2"
  }
 },
 "nbformat": 4,
 "nbformat_minor": 1
}
